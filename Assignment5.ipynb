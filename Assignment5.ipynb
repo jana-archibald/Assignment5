{
 "cells": [
  {
   "cell_type": "markdown",
   "metadata": {
    "editable": false
   },
   "source": [
    "# Jupyter Assignment 5 Due August 16\n",
    "\n",
    "\n",
    "###  These questions will be graded based on correctness, please take the time to make a final answer.  Ensure you have completely answered all of the questions, remove code that didn't run, or was not what was needed.\n",
    "\n",
    "#### Some of the questions come from our textbook, if so I have indecated the question number.\n",
    "\n",
    "#### If you need to add a code or markdown block you can use the `+` symbol above.  To remove a block use the scissors.\n",
    "\n",
    "#### I have included the normalplot code below, if you want to use it don't forget to run the code."
   ]
  },
  {
   "cell_type": "code",
   "execution_count": 1,
   "metadata": {
    "editable": false
   },
   "outputs": [],
   "source": [
    "normalplot<-function(m,sd,region=0){\n",
    "  x<-seq(m-(3.5)*sd,m+(3.5)*sd,length=1000)\n",
    "  y<-dnorm(x,m,sd)\n",
    "  plot(x,y,type=\"l\",xlab=\"\",ylab=\"\", bty=\"n\", yaxt=\"n\")\n",
    "  h <- dnorm(m,m,sd)\n",
    "  z<-x[x>region[1]]\n",
    "  z<-z[z<region[2]]\n",
    "  polygon(c(region[1],z,region[2]),\n",
    "          c(0,dnorm(z,m,sd),0),col=\"gray\")\n",
    "  abline(v=m)\n",
    "  abline(h=0)}"
   ]
  },
  {
   "cell_type": "markdown",
   "metadata": {
    "editable": false
   },
   "source": [
    "## Question 1\n",
    "\n",
    "The weight of candies produced in a factory follow a normal distribution with a mean of 20 g and a standard deviation of 2.2g.\n",
    "If I take a random sample of 16 candies what is the probability that their mean weights will be above 21.3 g?\n"
   ]
  },
  {
   "cell_type": "code",
   "execution_count": null,
   "metadata": {},
   "outputs": [],
   "source": []
  },
  {
   "cell_type": "markdown",
   "metadata": {},
   "source": [
    "Answer 1"
   ]
  },
  {
   "cell_type": "markdown",
   "metadata": {
    "editable": false
   },
   "source": [
    "## Question 2\n",
    "\n",
    "In previous years the number of worrms per square meter was found to have a mean of 120 and a standard deviation of 12.\n",
    "You need to compute a 95% confidence interval for this years mean number of worrms per square meter.  \n",
    "\n",
    "How large of a sample do you need to take to ensure that your margin of error is less than 5?"
   ]
  },
  {
   "cell_type": "code",
   "execution_count": null,
   "metadata": {},
   "outputs": [],
   "source": []
  },
  {
   "cell_type": "code",
   "execution_count": null,
   "metadata": {},
   "outputs": [],
   "source": []
  },
  {
   "cell_type": "code",
   "execution_count": null,
   "metadata": {},
   "outputs": [],
   "source": []
  },
  {
   "cell_type": "markdown",
   "metadata": {
    "editable": false
   },
   "source": [
    "## Question 3\n",
    "\n",
    "Most US adults have social ties with a large number of people, including friends, family, co-workers, and other acquaintances. It is nearly impossible for most people to reliably list all the people they know, but using a mathematical model, social analysts estimate that, on average, a US adult has social ties with 634 people. \n",
    "\n",
    "A survey of 16 randomly selected US adults who are cell phone users finds that the average number of social ties for the cell phone users in the sample was 664 with a standard deviation of 120. \n",
    "\n",
    "We wish to test to see if this provides evidence that the average number of social ties for a cell phone user is significantly different from 634, the hypothesized number for all US adults.\n",
    "\n",
    "### Part a) \n",
    "What is the parameter of interest? Write it in words and use the correct symbol."
   ]
  },
  {
   "cell_type": "markdown",
   "metadata": {},
   "source": [
    "Answer a) "
   ]
  },
  {
   "cell_type": "markdown",
   "metadata": {
    "editable": false
   },
   "source": [
    "### Part b) \n",
    "What is the sample statistic?  Write it in words, use the correct symbol and give its value."
   ]
  },
  {
   "cell_type": "code",
   "execution_count": null,
   "metadata": {},
   "outputs": [],
   "source": []
  },
  {
   "cell_type": "markdown",
   "metadata": {},
   "source": [
    "Answer b) "
   ]
  },
  {
   "cell_type": "markdown",
   "metadata": {
    "editable": false
   },
   "source": [
    "### Part c) \n",
    "What conditions must be met for the sampling distribution for the sampling statistic be approximately normal.  List all of the conditions,  whether  or not  you know they have been met, and how you would check them."
   ]
  },
  {
   "cell_type": "code",
   "execution_count": null,
   "metadata": {},
   "outputs": [],
   "source": []
  },
  {
   "cell_type": "markdown",
   "metadata": {},
   "source": [
    "Answer c"
   ]
  },
  {
   "cell_type": "markdown",
   "metadata": {
    "editable": false
   },
   "source": [
    "### Part d) \n",
    "\n",
    "Make a plot and shade the area corresponding to the p-value. You may want to do this by hand, or explain what you would like to shade since normal plot only shades on tail."
   ]
  },
  {
   "cell_type": "code",
   "execution_count": null,
   "metadata": {},
   "outputs": [],
   "source": []
  },
  {
   "cell_type": "markdown",
   "metadata": {
    "editable": false
   },
   "source": [
    "### Part e) \n",
    "What is the p-value?"
   ]
  },
  {
   "cell_type": "code",
   "execution_count": null,
   "metadata": {},
   "outputs": [],
   "source": []
  },
  {
   "cell_type": "markdown",
   "metadata": {},
   "source": [
    "Answer e) "
   ]
  },
  {
   "cell_type": "markdown",
   "metadata": {
    "editable": false
   },
   "source": [
    "### Part f) \n",
    "\n",
    "What is the conclusion of the hypothesis test.  You must include the p-value, relate this both to the null hypothesis, and the specific situation in this question. You may need 2 or 3 sentences."
   ]
  },
  {
   "cell_type": "markdown",
   "metadata": {},
   "source": [
    "Answer f)"
   ]
  },
  {
   "cell_type": "code",
   "execution_count": null,
   "metadata": {},
   "outputs": [],
   "source": []
  },
  {
   "cell_type": "markdown",
   "metadata": {
    "editable": false
   },
   "source": [
    "## Question 4\n",
    "\n",
    "Volunteers who had developed a cold within the previous 24 hours were randomized to take either zinc or placebo lozenge every 2 to 3 hour until their cold symptoms were gone.  24 participants took zinc lozenges, and 23 participants took placebo lozenge.  The mean overall duration of symptoms was found for each group."
   ]
  },
  {
   "cell_type": "markdown",
   "metadata": {
    "editable": false
   },
   "source": [
    "### Part a) \n",
    "What is the parameter of interest? Write it in words and use the correct symbol."
   ]
  },
  {
   "cell_type": "markdown",
   "metadata": {},
   "source": [
    "Answer Part a)"
   ]
  },
  {
   "cell_type": "markdown",
   "metadata": {
    "editable": false
   },
   "source": [
    "### Part b) \n",
    "What is the sample statistic?  Write it in words, use the correct symbol and give its value."
   ]
  },
  {
   "cell_type": "markdown",
   "metadata": {},
   "source": [
    "Answer Part b) "
   ]
  },
  {
   "cell_type": "markdown",
   "metadata": {
    "editable": false
   },
   "source": [
    "### Part c)\n",
    "What conditions must be met for the sampling distribution for the sampling statistic be approximately normal.  List all of the conditions,  whether  or not  you know they have been met, and how you would check them."
   ]
  },
  {
   "cell_type": "markdown",
   "metadata": {},
   "source": [
    "Answer Part c)"
   ]
  },
  {
   "cell_type": "markdown",
   "metadata": {
    "editable": false
   },
   "source": [
    "### Part (d)\n",
    "Is this an example of a paired t test or an independent t test?  (Explain)"
   ]
  },
  {
   "cell_type": "markdown",
   "metadata": {},
   "source": [
    "Answer Part d)"
   ]
  },
  {
   "cell_type": "markdown",
   "metadata": {
    "editable": false
   },
   "source": [
    "### Part e)\n",
    "\n",
    "The summary statistics from the sample are below.  \n",
    "\n",
    "`.          Min.    1st Qu.     Median    Mean    3rd Qu.       Max.      Std.Dev.`\n",
    "  \n",
    "`ZINC       8.972     13.587     16.270    15.501    17.953    19.639      3.011 `\n",
    "\n",
    "`PLACEBO    7.473     15.412     17.902    17.450    19.353    23.456      2.955`\n",
    "\n",
    "\n",
    "What is the value of the test statistic?"
   ]
  },
  {
   "cell_type": "code",
   "execution_count": null,
   "metadata": {},
   "outputs": [],
   "source": []
  },
  {
   "cell_type": "markdown",
   "metadata": {},
   "source": [
    "Answer e)"
   ]
  },
  {
   "cell_type": "markdown",
   "metadata": {
    "editable": false
   },
   "source": [
    "### Part f)\n",
    "What is the p-value?"
   ]
  },
  {
   "cell_type": "markdown",
   "metadata": {},
   "source": [
    "Answer Part f)"
   ]
  },
  {
   "cell_type": "markdown",
   "metadata": {
    "editable": false
   },
   "source": [
    "### Part g)\n",
    "What is the conclusion of the hypothesis test.  You must include the p-value, relate this both to the null hypothesis, and the specific situation in this question. You may need 2 or 3 sentences."
   ]
  },
  {
   "cell_type": "markdown",
   "metadata": {},
   "source": [
    "Answer part g)"
   ]
  }
 ],
 "metadata": {
  "kernelspec": {
   "display_name": "R",
   "language": "R",
   "name": "ir"
  },
  "language_info": {
   "codemirror_mode": "r",
   "file_extension": ".r",
   "mimetype": "text/x-r-source",
   "name": "R",
   "pygments_lexer": "r",
   "version": "3.6.2"
  }
 },
 "nbformat": 4,
 "nbformat_minor": 4
}
